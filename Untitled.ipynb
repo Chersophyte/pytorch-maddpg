{
 "cells": [
  {
   "cell_type": "code",
   "execution_count": 8,
   "id": "100f751b-2b4c-49cc-bf53-13650067a88a",
   "metadata": {},
   "outputs": [
    {
     "data": {
      "text/plain": [
       "array([[0., 0., 0., 0., 0.],\n",
       "       [0., 0., 0., 0., 0.]])"
      ]
     },
     "execution_count": 8,
     "metadata": {},
     "output_type": "execute_result"
    }
   ],
   "source": [
    "import numpy as np\n",
    "obs = np.zeros(5)\n",
    "np.stack([obs, obs])"
   ]
  },
  {
   "cell_type": "code",
   "execution_count": 11,
   "id": "8e0dd733-6949-4716-87f3-8cca4d6fc6bc",
   "metadata": {},
   "outputs": [
    {
     "data": {
      "text/plain": [
       "array([[0., 0., 0., 0., 0.]])"
      ]
     },
     "execution_count": 11,
     "metadata": {},
     "output_type": "execute_result"
    }
   ],
   "source": [
    "np.stack([obs])"
   ]
  },
  {
   "cell_type": "code",
   "execution_count": 18,
   "id": "c61d57ec-df29-4d70-97d3-68997c70ed68",
   "metadata": {},
   "outputs": [],
   "source": [
    "obs = np.zeros((5,4))\n",
    "obs[0,:]=None"
   ]
  },
  {
   "cell_type": "code",
   "execution_count": 29,
   "id": "e1fd9370-51ba-43a2-a426-1f8760830548",
   "metadata": {},
   "outputs": [
    {
     "data": {
      "text/plain": [
       "array([[nan, nan, nan, nan],\n",
       "       [ 0.,  0.,  0.,  0.],\n",
       "       [ 0.,  0.,  0.,  0.],\n",
       "       [ 0.,  0.,  0.,  0.],\n",
       "       [ 0.,  0.,  0.,  0.]])"
      ]
     },
     "execution_count": 29,
     "metadata": {},
     "output_type": "execute_result"
    }
   ],
   "source": [
    "x= np.zeros((5,4))\n",
    "x[0] = None\n",
    "x"
   ]
  },
  {
   "cell_type": "code",
   "execution_count": 32,
   "id": "9942778c-e09e-489c-8add-ba44eef6ffe7",
   "metadata": {},
   "outputs": [],
   "source": [
    "from collections import deque"
   ]
  },
  {
   "cell_type": "code",
   "execution_count": 38,
   "id": "f0456e56-faf1-4d4b-b055-10f807773586",
   "metadata": {},
   "outputs": [
    {
     "data": {
      "text/plain": [
       "deque([])"
      ]
     },
     "execution_count": 38,
     "metadata": {},
     "output_type": "execute_result"
    }
   ],
   "source": [
    "deque(maxlen=10)"
   ]
  },
  {
   "cell_type": "code",
   "execution_count": 4,
   "id": "4f9dfcd0-6347-47a5-8745-2e246800142e",
   "metadata": {},
   "outputs": [
    {
     "data": {
      "text/plain": [
       "tensor([6.9200e+04, 4.5729e-41, 6.9200e+04, 4.5729e-41, 0.0000e+00])"
      ]
     },
     "execution_count": 4,
     "metadata": {},
     "output_type": "execute_result"
    }
   ],
   "source": [
    "import torch\n",
    "torch.FloatTensor(5)"
   ]
  },
  {
   "cell_type": "code",
   "execution_count": null,
   "id": "76b2e3a6-4d98-4564-a8ce-0f14ddd9807d",
   "metadata": {},
   "outputs": [],
   "source": []
  }
 ],
 "metadata": {
  "kernelspec": {
   "display_name": "Python 3",
   "language": "python",
   "name": "python3"
  },
  "language_info": {
   "codemirror_mode": {
    "name": "ipython",
    "version": 3
   },
   "file_extension": ".py",
   "mimetype": "text/x-python",
   "name": "python",
   "nbconvert_exporter": "python",
   "pygments_lexer": "ipython3",
   "version": "3.6.13"
  }
 },
 "nbformat": 4,
 "nbformat_minor": 5
}
